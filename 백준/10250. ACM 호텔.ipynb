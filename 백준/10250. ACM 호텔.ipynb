{
 "cells": [
  {
   "cell_type": "code",
   "execution_count": 7,
   "id": "06ca30d2",
   "metadata": {
    "ExecuteTime": {
     "end_time": "2021-10-07T12:31:23.496997Z",
     "start_time": "2021-10-07T12:31:11.244277Z"
    }
   },
   "outputs": [
    {
     "name": "stdout",
     "output_type": "stream",
     "text": [
      "2\n",
      "6 12 6\n",
      "601\n",
      "6 12 7\n",
      "102\n"
     ]
    }
   ],
   "source": [
    "# 층수, 방수 , 손님 번수\n",
    "for tc in range(1, int(input())+1):\n",
    "    H,W,N = map(int,input().split())\n",
    "    result =0\n",
    "    num = N//H\n",
    "    fl = N%H\n",
    "    if fl == 0:\n",
    "        fl=H\n",
    "        num-=1\n",
    "    result = fl*100+num+1\n",
    "        \n",
    "    print(result)\n",
    "    "
   ]
  },
  {
   "cell_type": "code",
   "execution_count": null,
   "id": "614a17bc",
   "metadata": {},
   "outputs": [],
   "source": []
  },
  {
   "cell_type": "code",
   "execution_count": null,
   "id": "cdc242eb",
   "metadata": {},
   "outputs": [],
   "source": []
  }
 ],
 "metadata": {
  "kernelspec": {
   "display_name": "Python 3",
   "language": "python",
   "name": "python3"
  },
  "language_info": {
   "codemirror_mode": {
    "name": "ipython",
    "version": 3
   },
   "file_extension": ".py",
   "mimetype": "text/x-python",
   "name": "python",
   "nbconvert_exporter": "python",
   "pygments_lexer": "ipython3",
   "version": "3.8.8"
  },
  "toc": {
   "base_numbering": 1,
   "nav_menu": {},
   "number_sections": true,
   "sideBar": true,
   "skip_h1_title": false,
   "title_cell": "Table of Contents",
   "title_sidebar": "Contents",
   "toc_cell": false,
   "toc_position": {},
   "toc_section_display": true,
   "toc_window_display": false
  }
 },
 "nbformat": 4,
 "nbformat_minor": 5
}
