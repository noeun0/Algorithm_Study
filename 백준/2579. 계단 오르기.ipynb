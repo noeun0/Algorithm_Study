{
 "cells": [
  {
   "cell_type": "code",
   "execution_count": 1,
   "id": "33ceda53",
   "metadata": {
    "ExecuteTime": {
     "end_time": "2021-10-06T15:33:38.986974Z",
     "start_time": "2021-10-06T15:33:38.983004Z"
    }
   },
   "outputs": [],
   "source": [
    "# 연속한 세개 계단을 밟아서는 안됨,, 2,2,2, 1,2,1,2,...\n",
    "# 마지막 계단은 꼭 가야됨...첫째는 안가도됨 -> 맨 뒤부터"
   ]
  },
  {
   "cell_type": "code",
   "execution_count": 33,
   "id": "34771553",
   "metadata": {
    "ExecuteTime": {
     "end_time": "2021-10-06T16:20:16.965033Z",
     "start_time": "2021-10-06T16:20:09.888418Z"
    }
   },
   "outputs": [
    {
     "name": "stdout",
     "output_type": "stream",
     "text": [
      "6\n",
      "10\n",
      "20\n",
      "15\n",
      "25\n",
      "10\n",
      "20\n",
      "[20, 10, 25, 15, 20, 10]\n"
     ]
    }
   ],
   "source": [
    "step=[]\n",
    "for c in range(int(input())):\n",
    "    step.insert(0,int(input()))\n",
    "print(step)"
   ]
  },
  {
   "cell_type": "code",
   "execution_count": 88,
   "id": "f1f27719",
   "metadata": {
    "ExecuteTime": {
     "end_time": "2021-10-06T17:06:08.940101Z",
     "start_time": "2021-10-06T17:06:08.933099Z"
    }
   },
   "outputs": [
    {
     "name": "stdout",
     "output_type": "stream",
     "text": [
      "75\n"
     ]
    }
   ],
   "source": [
    "## print(step,c)\n",
    "result = 0\n",
    "def func1(x,cnt):\n",
    "    global result\n",
    "    for i in range(2,4):# 2,3\n",
    "        if i+x <=c+2:\n",
    "            cnt += sum(step[x:x+i-1])\n",
    "            if checked[i+x]<=cnt:\n",
    "                checked[i+x]=cnt\n",
    "                func1(x+i,cnt)\n",
    "            cnt -= sum(step[x:x+i-1])\n",
    "        else:\n",
    "            result= max(result,cnt)\n",
    "checked=[0 for i in range(c+3)]\n",
    "func1(0,0)\n",
    "#print(checked)\n",
    "print(result)"
   ]
  },
  {
   "cell_type": "code",
   "execution_count": 89,
   "id": "d65c4e80",
   "metadata": {
    "ExecuteTime": {
     "end_time": "2021-10-06T17:14:00.123473Z",
     "start_time": "2021-10-06T17:13:43.533249Z"
    }
   },
   "outputs": [
    {
     "name": "stdout",
     "output_type": "stream",
     "text": [
      "6\n",
      "10\n",
      "20\n",
      "15\n",
      "25\n",
      "10\n",
      "20\n",
      "75\n"
     ]
    }
   ],
   "source": [
    "\n",
    "n=int(input())\n",
    "array=[int(input()) for i in range(n)]\n",
    "dp=[[0,0,0] for _ in range(n)]\n",
    "for i in range(n):\n",
    "    # 그전 계단까지의 최댓값\n",
    "    dp[i][0]=max(dp[i-1])\n",
    "    dp[i][1]=dp[i-1][0]+array[i] \n",
    "    # 그전전계단까지의 최댓값 + 지금계단\n",
    "    dp[i][2]=dp[i-1][1]+array[i]\n",
    "print(max(dp[n-1][1:3]))"
   ]
  },
  {
   "cell_type": "code",
   "execution_count": 90,
   "id": "e47fba89",
   "metadata": {
    "ExecuteTime": {
     "end_time": "2021-10-06T17:14:08.547846Z",
     "start_time": "2021-10-06T17:14:08.532210Z"
    }
   },
   "outputs": [
    {
     "name": "stdout",
     "output_type": "stream",
     "text": [
      "[[0, 10, 10], [10, 20, 30], [30, 25, 35], [35, 55, 50], [55, 45, 65], [65, 75, 65]]\n"
     ]
    }
   ],
   "source": [
    "print(dp)"
   ]
  },
  {
   "cell_type": "code",
   "execution_count": null,
   "id": "525cafca",
   "metadata": {},
   "outputs": [],
   "source": []
  }
 ],
 "metadata": {
  "kernelspec": {
   "display_name": "Python 3",
   "language": "python",
   "name": "python3"
  },
  "language_info": {
   "codemirror_mode": {
    "name": "ipython",
    "version": 3
   },
   "file_extension": ".py",
   "mimetype": "text/x-python",
   "name": "python",
   "nbconvert_exporter": "python",
   "pygments_lexer": "ipython3",
   "version": "3.8.8"
  },
  "toc": {
   "base_numbering": 1,
   "nav_menu": {},
   "number_sections": true,
   "sideBar": true,
   "skip_h1_title": false,
   "title_cell": "Table of Contents",
   "title_sidebar": "Contents",
   "toc_cell": false,
   "toc_position": {},
   "toc_section_display": true,
   "toc_window_display": false
  }
 },
 "nbformat": 4,
 "nbformat_minor": 5
}
