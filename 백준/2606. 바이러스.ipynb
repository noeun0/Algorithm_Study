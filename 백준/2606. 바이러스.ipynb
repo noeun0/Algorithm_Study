{
 "cells": [
  {
   "cell_type": "code",
   "execution_count": 9,
   "id": "96f5bb27",
   "metadata": {
    "ExecuteTime": {
     "end_time": "2021-10-15T11:17:25.439669Z",
     "start_time": "2021-10-15T11:17:14.407404Z"
    }
   },
   "outputs": [
    {
     "name": "stdout",
     "output_type": "stream",
     "text": [
      "7\n",
      "6\n",
      "1 2\n",
      "2 3\n",
      "1 5\n",
      "5 2\n",
      "5 6\n",
      "4 7\n",
      "4\n"
     ]
    }
   ],
   "source": [
    "from collections import deque\n",
    "com = int(input())\n",
    "N = int(input())\n",
    "cnt=0\n",
    "board = [[0]*(com+1) for i in range(com+1)]\n",
    "\n",
    "for i in range(N):\n",
    "    a,b = map(int,input().split())\n",
    "    board[a][b]=1\n",
    "    board[b][a]=1\n",
    "queue = deque()\n",
    "queue.append(1)\n",
    "while queue:\n",
    "    num = queue.popleft()\n",
    "    for i in range(1,com+1):\n",
    "        if board[num][i]==1:\n",
    "            board[num][i]=2\n",
    "            queue.append(i)\n",
    "\n",
    "for i in board[2:]:\n",
    "    if 2 in i:\n",
    "        cnt+=1\n",
    "print(cnt)\n",
    "       "
   ]
  },
  {
   "cell_type": "markdown",
   "id": "94d9faa9",
   "metadata": {},
   "source": [
    "## "
   ]
  }
 ],
 "metadata": {
  "kernelspec": {
   "display_name": "Python 3",
   "language": "python",
   "name": "python3"
  },
  "language_info": {
   "codemirror_mode": {
    "name": "ipython",
    "version": 3
   },
   "file_extension": ".py",
   "mimetype": "text/x-python",
   "name": "python",
   "nbconvert_exporter": "python",
   "pygments_lexer": "ipython3",
   "version": "3.8.8"
  },
  "toc": {
   "base_numbering": 1,
   "nav_menu": {},
   "number_sections": true,
   "sideBar": true,
   "skip_h1_title": false,
   "title_cell": "Table of Contents",
   "title_sidebar": "Contents",
   "toc_cell": false,
   "toc_position": {},
   "toc_section_display": true,
   "toc_window_display": false
  }
 },
 "nbformat": 4,
 "nbformat_minor": 5
}
