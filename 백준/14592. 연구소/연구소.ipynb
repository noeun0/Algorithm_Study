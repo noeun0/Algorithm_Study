{
 "cells": [
  {
   "cell_type": "code",
   "execution_count": 12,
   "id": "be0e6bae",
   "metadata": {
    "ExecuteTime": {
     "end_time": "2021-10-04T09:44:35.580994Z",
     "start_time": "2021-10-04T09:44:03.935446Z"
    }
   },
   "outputs": [
    {
     "name": "stdout",
     "output_type": "stream",
     "text": [
      "7 7\n",
      "2 0 0 0 1 1 0\n",
      "0 0 1 0 1 2 0\n",
      "0 1 1 0 1 0 0\n",
      "0 1 0 0 0 0 0 \n",
      "0 0 0 0 0 1 1\n",
      "0 1 0 0 0 0 0\n",
      "0 1 0 0 0 0 0 \n",
      "[[2, 0, 0, 0, 1, 1, 0], [0, 0, 1, 0, 1, 2, 0], [0, 1, 1, 0, 1, 0, 0], [0, 1, 0, 0, 0, 0, 0], [0, 0, 0, 0, 0, 1, 1], [0, 1, 0, 0, 0, 0, 0], [0, 1, 0, 0, 0, 0, 0]]\n"
     ]
    }
   ],
   "source": [
    "N,M = map(int,input().split())\n",
    "board = [[i for i in map(int, input().split())] for _ in range(N)]\n"
   ]
  },
  {
   "cell_type": "code",
   "execution_count": 61,
   "id": "1e9331c1",
   "metadata": {
    "ExecuteTime": {
     "end_time": "2021-10-04T11:16:32.660519Z",
     "start_time": "2021-10-04T11:16:31.316709Z"
    }
   },
   "outputs": [
    {
     "name": "stdout",
     "output_type": "stream",
     "text": [
      "27\n"
     ]
    }
   ],
   "source": [
    "from itertools import combinations\n",
    "import copy\n",
    "N,M = map(int,input().split())\n",
    "board = [[i for i in map(int, input().split())] for _ in range(N)]\n",
    "\n",
    "dr = [0,0,-1,1]\n",
    "dc = [1,-1,0,0]\n",
    "\n",
    "def dfs(r,c):\n",
    "    nboard[r][c]=1\n",
    "    for idx in range(4):\n",
    "        nr = r + dr[idx]\n",
    "        nc = c + dc[idx]\n",
    "        if nr in range(N) and nc in range(M):\n",
    "            if nboard[nr][nc]==0:\n",
    "                dfs(nr,nc)\n",
    "vi_list = []\n",
    "z_list = []\n",
    "result = 0\n",
    "for i in range(N):\n",
    "    for j in range(M):\n",
    "        if board[i][j]==2:\n",
    "            vi_list.append([i,j])\n",
    "        elif board[i][j]==0:\n",
    "            z_list.append([i,j])\n",
    "z_per = list(combinations(z_list,3))\n",
    "\n",
    "\n",
    "\n",
    "for i in z_per:\n",
    "    nboard = copy.deepcopy(board)\n",
    "    cnt = 0\n",
    "    # 3개 임의로 골라 벽 세우기\n",
    "    for wall in i:\n",
    "        nboard[wall[0]][wall[1]]=1\n",
    "    # 바이러스 시작 점 부터 dfs로 감염시키기\n",
    "    #print(\"시작\",nboard)\n",
    "    for vi in vi_list:\n",
    "        \n",
    "        dfs(vi[0],vi[1])\n",
    "    #print(nboard)\n",
    "    for i in nboard:\n",
    "        cnt += i.count(0)\n",
    "        \n",
    "        #print(cnt)\n",
    "    result = max(result,cnt)\n",
    "    \n",
    "        \n",
    "print(result)"
   ]
  },
  {
   "cell_type": "code",
   "execution_count": null,
   "id": "36663aff",
   "metadata": {
    "ExecuteTime": {
     "end_time": "2021-10-04T10:43:12.714242Z",
     "start_time": "2021-10-04T10:43:12.705180Z"
    }
   },
   "outputs": [],
   "source": []
  },
  {
   "cell_type": "code",
   "execution_count": null,
   "id": "30a2173d",
   "metadata": {},
   "outputs": [],
   "source": []
  }
 ],
 "metadata": {
  "kernelspec": {
   "display_name": "Python 3",
   "language": "python",
   "name": "python3"
  },
  "language_info": {
   "codemirror_mode": {
    "name": "ipython",
    "version": 3
   },
   "file_extension": ".py",
   "mimetype": "text/x-python",
   "name": "python",
   "nbconvert_exporter": "python",
   "pygments_lexer": "ipython3",
   "version": "3.8.8"
  },
  "toc": {
   "base_numbering": 1,
   "nav_menu": {},
   "number_sections": true,
   "sideBar": true,
   "skip_h1_title": false,
   "title_cell": "Table of Contents",
   "title_sidebar": "Contents",
   "toc_cell": false,
   "toc_position": {},
   "toc_section_display": true,
   "toc_window_display": false
  }
 },
 "nbformat": 4,
 "nbformat_minor": 5
}
