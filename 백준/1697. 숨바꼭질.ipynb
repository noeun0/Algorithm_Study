{
 "cells": [
  {
   "cell_type": "code",
   "execution_count": 37,
   "id": "f355c0ca",
   "metadata": {
    "ExecuteTime": {
     "end_time": "2021-10-14T17:52:46.453912Z",
     "start_time": "2021-10-14T17:52:44.016762Z"
    }
   },
   "outputs": [
    {
     "name": "stdout",
     "output_type": "stream",
     "text": [
      "3 100000\n",
      "19\n"
     ]
    }
   ],
   "source": [
    "from collections import deque\n",
    "def dfs(queue):\n",
    "\n",
    "    while queue:\n",
    "        su,cnt = queue.popleft()\n",
    "        dx = [-1, 1, su]\n",
    "        if su == K:\n",
    "            return cnt\n",
    "        for i in range(3):\n",
    "            nsu= su+dx[i]\n",
    "            if 0<= nsu <= 100000 and not check[nsu]:\n",
    "                check[nsu]=1\n",
    "                queue.append((nsu,cnt+1))\n",
    "    \n",
    "\n",
    "N,K = map(int,input().split())\n",
    "queue = deque()\n",
    "queue.append((N,0))\n",
    "check = [0]*100001\n",
    "print(dfs(queue))\n",
    "\n"
   ]
  },
  {
   "cell_type": "code",
   "execution_count": 33,
   "id": "db98d62d",
   "metadata": {
    "ExecuteTime": {
     "end_time": "2021-10-14T17:49:37.431676Z",
     "start_time": "2021-10-14T17:49:35.361607Z"
    }
   },
   "outputs": [
    {
     "name": "stdout",
     "output_type": "stream",
     "text": [
      "3 100000\n",
      "19\n"
     ]
    }
   ],
   "source": [
    "from collections import deque\n",
    "\n",
    "def bfs(v):\n",
    "    count = 0\n",
    "    q = deque([[v, count]])\n",
    "    while q:\n",
    "        v = q.popleft()\n",
    "        e = v[0]\n",
    "        count = v[1]\n",
    "        if not visited[e]:\n",
    "            visited[e] = True\n",
    "            if e == K:\n",
    "                return count\n",
    "            count += 1\n",
    "            if (e * 2) <= 100000:\n",
    "                q.append([e * 2, count])\n",
    "            if (e + 1) <= 100000:\n",
    "                q.append([e + 1, count])\n",
    "            if (e - 1) >= 0:\n",
    "                q.append([e - 1, count])\n",
    "    return count\n",
    "                \n",
    "N, K = map(int, input().split())\n",
    "visited = [False] * 100001\n",
    "print(bfs(N))"
   ]
  },
  {
   "cell_type": "code",
   "execution_count": null,
   "id": "04b6daa1",
   "metadata": {},
   "outputs": [],
   "source": []
  }
 ],
 "metadata": {
  "kernelspec": {
   "display_name": "Python 3",
   "language": "python",
   "name": "python3"
  },
  "language_info": {
   "codemirror_mode": {
    "name": "ipython",
    "version": 3
   },
   "file_extension": ".py",
   "mimetype": "text/x-python",
   "name": "python",
   "nbconvert_exporter": "python",
   "pygments_lexer": "ipython3",
   "version": "3.8.8"
  },
  "toc": {
   "base_numbering": 1,
   "nav_menu": {},
   "number_sections": true,
   "sideBar": true,
   "skip_h1_title": false,
   "title_cell": "Table of Contents",
   "title_sidebar": "Contents",
   "toc_cell": false,
   "toc_position": {},
   "toc_section_display": true,
   "toc_window_display": false
  }
 },
 "nbformat": 4,
 "nbformat_minor": 5
}
