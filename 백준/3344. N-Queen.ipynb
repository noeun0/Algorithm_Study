{
 "cells": [
  {
   "cell_type": "code",
   "execution_count": 1,
   "id": "049b4951",
   "metadata": {
    "ExecuteTime": {
     "end_time": "2021-10-11T14:32:28.813429Z",
     "start_time": "2021-10-11T14:32:28.805429Z"
    }
   },
   "outputs": [
    {
     "ename": "SyntaxError",
     "evalue": "cannot assign to operator (<ipython-input-1-e3736667f25f>, line 10)",
     "output_type": "error",
     "traceback": [
      "\u001b[1;36m  File \u001b[1;32m\"<ipython-input-1-e3736667f25f>\"\u001b[1;36m, line \u001b[1;32m10\u001b[0m\n\u001b[1;33m    boardr[r] and boardc[c] = 1\u001b[0m\n\u001b[1;37m    ^\u001b[0m\n\u001b[1;31mSyntaxError\u001b[0m\u001b[1;31m:\u001b[0m cannot assign to operator\n"
     ]
    }
   ],
   "source": [
    "N = int(input())\n",
    "# 넣을때마다 그 가로세로 제거하고 기울기도 다 체크해서 제거하기\n",
    "\n",
    "boardr = [0 for _ in range(N)]\n",
    "boardc = [0 for _ in range(N)]\n",
    "\n",
    "# for r in range(N):\n",
    "#     for c in range(N):\n",
    "#         if boardr[r] and boardc[c] == 0:\n",
    "#             boardr[r] and boardc[c] = 1\n",
    "            \n",
    "            \n"
   ]
  },
  {
   "cell_type": "code",
   "execution_count": null,
   "id": "e1f3b9fc",
   "metadata": {},
   "outputs": [],
   "source": [
    "import sys\n",
    "sys.stdin = open('input.txt')\n",
    "import itertools\n",
    "\n",
    "\n",
    "def func(x,y):\n",
    "    dx = [1,-1,0,0,1,-1,1,-1]\n",
    "    dy = [0,0,-1,1,1,-1,-1,1]\n",
    "    for i in range(N):\n",
    "        if x+dx[i] in range(N) and y+dy[i] in range(N):\n",
    "            if board[x+dx[i]][y+dy[i]]==1:\n",
    "                board[x + dx[i]][y + dy[i]]+=1\n",
    "                break\n",
    "            else:\n",
    "                board[x + dx[i]][y + dy[i]]=1\n",
    "                func(x + dx[i],y + dy[i])\n",
    "\n",
    "\n",
    "for tc in range(1, int(input())+1):\n",
    "    N = int(input())\n",
    "    listQ = list(itertools.combinations(range(N*N),N))\n",
    "    result=0\n",
    "    for case in listQ:\n",
    "        board = [[0 for _ in range(N)] for _ in range(N)]\n",
    "        count=0\n",
    "        for Q in case:\n",
    "            x = Q//N\n",
    "            y = Q%N\n",
    "\n",
    "            func(x,y)\n",
    "            for i in board:\n",
    "                for j in i:\n",
    "                    if j==2:\n",
    "                        count+=1\n",
    "            if count==0:\n",
    "                result+=1\n",
    "\n",
    "    print(\"#{} {}\".format(tc,result))"
   ]
  }
 ],
 "metadata": {
  "kernelspec": {
   "display_name": "Python 3",
   "language": "python",
   "name": "python3"
  },
  "language_info": {
   "codemirror_mode": {
    "name": "ipython",
    "version": 3
   },
   "file_extension": ".py",
   "mimetype": "text/x-python",
   "name": "python",
   "nbconvert_exporter": "python",
   "pygments_lexer": "ipython3",
   "version": "3.8.8"
  },
  "toc": {
   "base_numbering": 1,
   "nav_menu": {},
   "number_sections": true,
   "sideBar": true,
   "skip_h1_title": false,
   "title_cell": "Table of Contents",
   "title_sidebar": "Contents",
   "toc_cell": false,
   "toc_position": {},
   "toc_section_display": true,
   "toc_window_display": false
  }
 },
 "nbformat": 4,
 "nbformat_minor": 5
}
