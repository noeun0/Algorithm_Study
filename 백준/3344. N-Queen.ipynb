{
 "cells": [
  {
   "cell_type": "code",
   "execution_count": null,
   "id": "8c3d06c1",
   "metadata": {},
   "outputs": [],
   "source": [
    "N = int(input())\n",
    "# 넣을때마다 그 가로세로 제거하고 기울기도 다 체크해서 제거하기\n",
    "\n",
    "boardr = [0 for _ in range(N)]\n",
    "boardc = [0 for _ in range(N)]\n",
    "\n",
    "for r in range(N):\n",
    "    for c in range(N):\n",
    "        if boardr[r] and boardc[c] == 0:\n",
    "            boardr[r] and boardc[c] = 1\n",
    "            \n",
    "            \n"
   ]
  }
 ],
 "metadata": {
  "kernelspec": {
   "display_name": "Python 3",
   "language": "python",
   "name": "python3"
  },
  "language_info": {
   "codemirror_mode": {
    "name": "ipython",
    "version": 3
   },
   "file_extension": ".py",
   "mimetype": "text/x-python",
   "name": "python",
   "nbconvert_exporter": "python",
   "pygments_lexer": "ipython3",
   "version": "3.8.8"
  },
  "toc": {
   "base_numbering": 1,
   "nav_menu": {},
   "number_sections": true,
   "sideBar": true,
   "skip_h1_title": false,
   "title_cell": "Table of Contents",
   "title_sidebar": "Contents",
   "toc_cell": false,
   "toc_position": {},
   "toc_section_display": true,
   "toc_window_display": false
  }
 },
 "nbformat": 4,
 "nbformat_minor": 5
}
