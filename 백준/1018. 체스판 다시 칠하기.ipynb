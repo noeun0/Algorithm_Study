{
 "cells": [
  {
   "cell_type": "markdown",
   "id": "83d530cd",
   "metadata": {
    "ExecuteTime": {
     "end_time": "2021-08-15T11:59:57.357002Z",
     "start_time": "2021-08-15T11:59:57.347004Z"
    }
   },
   "source": [
    "# 체스판 다시 칠하기\n",
    "\n",
    "[https://www.acmicpc.net/problem/1018](https://www.acmicpc.net/problem/1018)\n",
    "\n",
    ": 브루트포스, 다중 포문, 이중 리스트 순회\n",
    "\n",
    "구현방법\n",
    "\n",
    "1. 2중 리스트에서 8*8크기의 가능한 경우수를 다 돌면서\n",
    "2. 맨 왼쪽 윗칸이 w,b일때로 경우를 나눠서 인덱스 크기의 합이 짝수인지 홀수인지 확인해서 주어진 조건과 맞나 확인하며 새로 칠해야 할 부분을 COUNT하기\n",
    "3. 반복문이 끝나면 기존의 COUNT와 비교해서 작으면 교체\n",
    "\n",
    "어려웠던 점\n",
    "\n",
    "- 생각을 너무 짧게 했다. 첫 시작 값 즉 맨 왼쪽 윗칸이 그대로 일때에 맞춰서 다른 값을 비교했는데, 그러면 왼쪽 윗칸이 틀린 경우 중에 더 COUNT가 작을 경우가 있을 수도 있다....\n",
    "\n",
    "    → 결국 맨 윗칸이 B일때랑 W일때 모두 체크해야 하는 것이였다.......\n",
    "\n",
    "- 그리고 X,Y는 정말 헷깔린다. 가로가 X, 세로가 Y라고 했으면, list[y][x]!!!"
   ]
  },
  {
   "cell_type": "code",
   "execution_count": 49,
   "id": "8045d54a",
   "metadata": {
    "ExecuteTime": {
     "end_time": "2021-08-15T12:02:00.427220Z",
     "start_time": "2021-08-15T12:01:29.399463Z"
    }
   },
   "outputs": [
    {
     "name": "stdout",
     "output_type": "stream",
     "text": [
      "8 8\n",
      "WBWBWBWB\n",
      "BWBWBWBW\n",
      "WBWBWBWB\n",
      "BWBBBWBW\n",
      "WBWBWBWB\n",
      "BWBWBWBW\n",
      "WBWBWBWB\n",
      "BWBWBWBW\n",
      "1\n"
     ]
    }
   ],
   "source": [
    "N,M = map(int,input().split())\n",
    "list_c=[]\n",
    "for _ in range(N):\n",
    "    list_c.append(list(input()))\n",
    "result=N*M\n",
    "for x in range(M-8+1):\n",
    "    for y in range(N-8+1):\n",
    "        \n",
    "        for color in [\"W\",\"B\"]:\n",
    "            count_c=0\n",
    "            for nx in range(0,8):\n",
    "                for ny in range(0,8):\n",
    "\n",
    "                    if (nx+ny)%2 ==0 and list_c[y+ny][x+nx]!=color:\n",
    "                        count_c+=1\n",
    "                    elif (nx+ny)%2 ==1 and list_c[y+ny][x+nx]==color:\n",
    "                        count_c+=1        \n",
    "            result=min(result,count_c)\n",
    "        #result= min(result,count)\n",
    "print(result)         "
   ]
  },
  {
   "cell_type": "markdown",
   "id": "a49fcc8d",
   "metadata": {
    "ExecuteTime": {
     "end_time": "2021-08-15T11:01:14.060751Z",
     "start_time": "2021-08-15T11:01:14.045118Z"
    }
   },
   "source": [
    "### → 개선해보기\n",
    "\n",
    ": 맨 위 왼쪽 칸이 W일때, R일떄 틀린 부분을 전부 계산한 다음에 바꿔야 하는 부분을 체크하고\n",
    "\n",
    "8*8단위로 쪼개서 합을 계산하면 어떨지...?"
   ]
  },
  {
   "cell_type": "markdown",
   "id": "6be3562e",
   "metadata": {},
   "source": [
    "# 틀렸던 나의 코드\n",
    "\n",
    "- 첫 값을 원래 값으로 고정하고 순회했음"
   ]
  },
  {
   "cell_type": "code",
   "execution_count": 52,
   "id": "10478960",
   "metadata": {
    "ExecuteTime": {
     "end_time": "2021-08-15T12:02:30.347680Z",
     "start_time": "2021-08-15T12:02:30.339682Z"
    }
   },
   "outputs": [
    {
     "name": "stdout",
     "output_type": "stream",
     "text": [
      "1\n"
     ]
    }
   ],
   "source": [
    "result=N*M\n",
    "for x in range(M-8+1):\n",
    "    for y in range(N-8+1):\n",
    "        count=0\n",
    "        color = list_c[y][x]\n",
    "        #print(\"start\",y,x)\n",
    "        for nx in range(0,8):\n",
    "            for ny in range(0,8):\n",
    "\n",
    "                    if (nx+ny)%2 ==0 and list_c[y+ny][x+nx]!=color:\n",
    "                        count+=1\n",
    "                    elif (nx+ny)%2 ==1 and list_c[y+ny][x+nx]==color:\n",
    "                        count+=1        \n",
    "                    \n",
    "        result= min(result,count)\n",
    "print(result)         "
   ]
  }
 ],
 "metadata": {
  "kernelspec": {
   "display_name": "Python 3",
   "language": "python",
   "name": "python3"
  },
  "language_info": {
   "codemirror_mode": {
    "name": "ipython",
    "version": 3
   },
   "file_extension": ".py",
   "mimetype": "text/x-python",
   "name": "python",
   "nbconvert_exporter": "python",
   "pygments_lexer": "ipython3",
   "version": "3.8.8"
  },
  "toc": {
   "base_numbering": 1,
   "nav_menu": {},
   "number_sections": true,
   "sideBar": true,
   "skip_h1_title": false,
   "title_cell": "Table of Contents",
   "title_sidebar": "Contents",
   "toc_cell": false,
   "toc_position": {},
   "toc_section_display": true,
   "toc_window_display": false
  }
 },
 "nbformat": 4,
 "nbformat_minor": 5
}
